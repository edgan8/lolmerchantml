{
 "cells": [
  {
   "cell_type": "code",
   "execution_count": 1,
   "metadata": {
    "collapsed": true
   },
   "outputs": [],
   "source": [
    "import numpy as np\n",
    "import pandas as pd\n",
    "import sklearn as sk\n",
    "import sklearn.linear_model as sklm\n",
    "import sklearn.cross_validation as skcv\n",
    "import sklearn.feature_selection as skfs\n",
    "import sklearn.ensemble as skes\n",
    "import sys\n",
    "import json\n",
    "import random\n",
    "import matplotlib.pyplot as plt\n",
    "%matplotlib inline"
   ]
  },
  {
   "cell_type": "markdown",
   "metadata": {},
   "source": [
    "Data Preprocessing\n",
    "------"
   ]
  },
  {
   "cell_type": "code",
   "execution_count": 182,
   "metadata": {
    "collapsed": false
   },
   "outputs": [
    {
     "name": "stdout",
     "output_type": "stream",
     "text": [
      "119720\n",
      "119720\n"
     ]
    }
   ],
   "source": [
    "df_raw = pd.read_csv(\"parser_silver.csv\")\n",
    "print(len(df_raw))\n",
    "df = df_raw[df_raw['gold10'].isnull() == False]\n",
    "print(len(df))"
   ]
  },
  {
   "cell_type": "code",
   "execution_count": 183,
   "metadata": {
    "collapsed": false
   },
   "outputs": [],
   "source": [
    "def list_str(str):\n",
    "    return json.loads(str)\n",
    "df['allyChampList'] = df['allyChampions'].apply(list_str)\n",
    "df['opponentChampList'] = df['opponentChampions'].apply(list_str)\n",
    "df['item10List'] = df['items10'].apply(list_str)"
   ]
  },
  {
   "cell_type": "code",
   "execution_count": 184,
   "metadata": {
    "collapsed": false,
    "scrolled": true
   },
   "outputs": [
    {
     "name": "stdout",
     "output_type": "stream",
     "text": [
      "1,2,3,4,5,6,7,8,9,10,11,12,13,14,15,16,17,18,19,20,21,22,23,24,25,26,27,28,29,30,31,32,33,34,35,36,37,38,39,40,41,42,43,44,45,48,50,51,53,54,55,56,57,58,59,60,61,62,63,64,67,68,69,72,74,75,76,77,78,79,80,81,82,83,84,85,86,89,90,91,92,96,98,99,101,102,103,104,105,106,107,110,111,112,113,114,115,117,119,120,121,122,126,127,131,133,134,143,150,154,157,161,201,203,222,223,236,238,245,254,266,267,268,412,420,421,429,432,128\n"
     ]
    }
   ],
   "source": [
    "champ_ids = df['championId'].unique()\n",
    "champ_ids.sort()\n",
    "base_cols = []\n",
    "\n",
    "for c_id in champ_ids:\n",
    "    sys.stdout.write(\"{0},\".format(c_id))\n",
    "    allyc_col = \"allyc_{0}\".format(c_id)\n",
    "    oppc_col = \"opponentc_{0}\".format(c_id)\n",
    "    df[allyc_col] = df['allyChampList'].map(lambda x: c_id in x)\n",
    "    df[oppc_col] = df['opponentChampList'].map(lambda x: c_id in x)\n",
    "    base_cols.append(allyc_col)\n",
    "    base_cols.append(oppc_col)\n",
    "print(len(champ_ids))"
   ]
  },
  {
   "cell_type": "code",
   "execution_count": 185,
   "metadata": {
    "collapsed": false
   },
   "outputs": [
    {
     "name": "stdout",
     "output_type": "stream",
     "text": [
      "128\n"
     ]
    }
   ],
   "source": [
    "print(len(champ_ids))"
   ]
  },
  {
   "cell_type": "code",
   "execution_count": 186,
   "metadata": {
    "collapsed": true
   },
   "outputs": [],
   "source": [
    "df['lanerole'] = df['lane'] + df['role']\n",
    "lroles = df['lanerole'].unique()\n",
    "for lrole in lroles:\n",
    "    lrole_col = \"lr_{0}\".format(lrole)\n",
    "    df[lrole_col] = (df['lanerole'] == lrole)\n",
    "    base_cols.append(lrole_col)"
   ]
  },
  {
   "cell_type": "code",
   "execution_count": 187,
   "metadata": {
    "collapsed": false,
    "scrolled": true
   },
   "outputs": [
    {
     "name": "stdout",
     "output_type": "stream",
     "text": [
      "205\n",
      "1001,1004,1006,1011,1018,1026,1027,1028,1029,1031,1033,1036,1037,1038,1039,1041,1042,1043,1051,1052,1053,1054,1055,1056,1057,1058,1082,1083,1300,1301,1303,1304,1305,1306,1307,1308,1309,1310,1311,1313,1314,1315,1316,1317,1318,1319,1321,1322,1323,1324,1325,1326,1327,1328,1329,1330,1331,1333,1334,1400,1401,1402,1403,1408,1409,1410,1411,1412,1413,1414,1415,2003,2004,2010,2015,2031,2032,2033,2041,2043,2044,2045,2049,2053,2138,2139,2301,2302,2303,3001,3004,3006,3009,3010,3020,3022,3024,3025,3027,3028,3031,3033,3034,3035,3036,3041,3044,3046,3047,3050,3052,3053,3057,3065,3067,3068,3069,3070,3071,3072,3074,3075,3077,3078,3082,3083,3085,3086,3087,3089,3092,3093,3094,3096,3097,3098,3100,3101,3105,3108,3110,3111,3113,3114,3115,3116,3117,3123,3124,3133,3134,3135,3136,3140,3141,3142,3144,3145,3146,3151,3152,3153,3155,3156,3157,3158,3165,3174,3191,3196,3197,3211,3285,3301,3302,3303,3340,3341,3342,3363,3401,3508,3512,3599,3706,3707,3708,3709,3710,3711,3713,3714,3715,3717,3718,3722,3723,3724,3725,3726,3742,3748,3751,3800,3801,"
     ]
    }
   ],
   "source": [
    "itemSet = set()\n",
    "for itemList in df['item10List']:\n",
    "    itemSet.update(itemList)\n",
    "item_id_list = list(itemSet)\n",
    "item_id_list.sort()\n",
    "print(len(item_id_list))\n",
    "\n",
    "item_cols = []\n",
    "\n",
    "for item_id in item_id_list:\n",
    "    sys.stdout.write(\"{0},\".format(item_id))\n",
    "    i_col = \"i_{0}\".format(item_id)\n",
    "    df[i_col] = df['item10List'].map(lambda x: item_id in x)\n",
    "    item_cols.append(i_col)"
   ]
  },
  {
   "cell_type": "code",
   "execution_count": 188,
   "metadata": {
    "collapsed": false
   },
   "outputs": [],
   "source": [
    "state_cols = []\n",
    "cstate_cols = []\n",
    "for col in ['gold5', 'gold10', 'xp5', 'xp10']:\n",
    "    zcol = col + 'z'\n",
    "    ccol = col + 'c'\n",
    "    \n",
    "    df[zcol] = (df[col] - df[col].mean())/df[col].std(ddof=0)\n",
    "    df[ccol] = pd.cut(df[zcol], bins=[-20,-1,0,1,20], labels=False)\n",
    "    \n",
    "    state_cols.append(zcol)\n",
    "    cstate_cols.append(ccol)"
   ]
  },
  {
   "cell_type": "code",
   "execution_count": 189,
   "metadata": {
    "collapsed": false,
    "scrolled": true
   },
   "outputs": [
    {
     "data": {
      "text/plain": [
       "509"
      ]
     },
     "execution_count": 189,
     "metadata": {},
     "output_type": "execute_result"
    }
   ],
   "source": [
    "len(list(df))"
   ]
  },
  {
   "cell_type": "code",
   "execution_count": 190,
   "metadata": {
    "collapsed": false,
    "scrolled": false
   },
   "outputs": [
    {
     "name": "stdout",
     "output_type": "stream",
     "text": [
      "<class 'pandas.core.frame.DataFrame'>\n",
      "Int64Index: 11972 entries, 1 to 119719\n",
      "Columns: 509 entries, matchId to xp10c\n",
      "dtypes: bool(477), float64(9), int64(13), object(10)\n",
      "memory usage: 8.5+ MB\n"
     ]
    }
   ],
   "source": [
    "idxs = []\n",
    "# want to select 1 sample per match\n",
    "for i in range(0,len(df),10):\n",
    "    idxs.append(random.randint(i, i+9))\n",
    "df_m = df.iloc[idxs]\n",
    "df_m.info()"
   ]
  },
  {
   "cell_type": "code",
   "execution_count": 191,
   "metadata": {
    "collapsed": true
   },
   "outputs": [],
   "source": [
    "df_s, df_test, y_s, y_test = skcv.train_test_split(\n",
    "    df_m, df_m['winner'], test_size=0.2)"
   ]
  },
  {
   "cell_type": "code",
   "execution_count": 192,
   "metadata": {
    "collapsed": false
   },
   "outputs": [
    {
     "name": "stdout",
     "output_type": "stream",
     "text": [
      "<class 'pandas.core.frame.DataFrame'>\n",
      "Int64Index: 9577 entries, 96407 to 64875\n",
      "Columns: 509 entries, matchId to xp10c\n",
      "dtypes: bool(477), float64(9), int64(13), object(10)\n",
      "memory usage: 6.8+ MB\n"
     ]
    }
   ],
   "source": [
    "df_s.info()"
   ]
  },
  {
   "cell_type": "code",
   "execution_count": 193,
   "metadata": {
    "collapsed": false,
    "scrolled": true
   },
   "outputs": [
    {
     "name": "stdout",
     "output_type": "stream",
     "text": [
      "['allyc_1', 'opponentc_1', 'allyc_2', 'opponentc_2', 'allyc_3']\n",
      "['gold5z', 'gold10z', 'xp5z', 'xp10z']\n",
      "['i_1001', 'i_1004', 'i_1006', 'i_1011', 'i_1018']\n"
     ]
    }
   ],
   "source": [
    "print(base_cols[:5])\n",
    "print(state_cols)\n",
    "print(item_cols[:5])"
   ]
  },
  {
   "cell_type": "markdown",
   "metadata": {},
   "source": [
    "Logistic Regression\n",
    "-----"
   ]
  },
  {
   "cell_type": "code",
   "execution_count": 128,
   "metadata": {
    "collapsed": false
   },
   "outputs": [
    {
     "name": "stdout",
     "output_type": "stream",
     "text": [
      "c: 0.0001, score: 0.506003968886\n",
      "c: 0.001, score: 0.506003968886\n",
      "c: 0.01, score: 0.506003968886\n",
      "c: 0.1, score: 0.55163493873\n",
      "c: 1, score: 0.55727375373\n",
      "c: 10, score: 0.559153431371\n",
      "c: 100, score: 0.559362090734\n",
      "c: 1000, score: 0.559257652092\n"
     ]
    }
   ],
   "source": [
    "for i in range(-4, 4, 1):\n",
    "    c = 10**i\n",
    "    champ_scores = skcv.cross_val_score(\n",
    "        sklm.LogisticRegression(C=c, penalty='l1'), \n",
    "        df_s[base_cols], \n",
    "        df_s['winner'], \n",
    "        scoring='accuracy', \n",
    "        cv=5)\n",
    "    print(\"c: {}, score: {}\".format(c, champ_scores.mean()))"
   ]
  },
  {
   "cell_type": "code",
   "execution_count": 132,
   "metadata": {
    "collapsed": false
   },
   "outputs": [
    {
     "data": {
      "text/plain": [
       "0.55727375373019472"
      ]
     },
     "execution_count": 132,
     "metadata": {},
     "output_type": "execute_result"
    }
   ],
   "source": [
    "champ_scores = skcv.cross_val_score(\n",
    "    sklm.LogisticRegression(penalty='l1'), \n",
    "    df_s[base_cols], \n",
    "    df_s['winner'], \n",
    "    scoring='accuracy', \n",
    "    cv=5)\n",
    "champ_scores.mean()"
   ]
  },
  {
   "cell_type": "code",
   "execution_count": 133,
   "metadata": {
    "collapsed": false
   },
   "outputs": [
    {
     "data": {
      "text/plain": [
       "0.59005953329492478"
      ]
     },
     "execution_count": 133,
     "metadata": {},
     "output_type": "execute_result"
    }
   ],
   "source": [
    "champ_gold_scores = skcv.cross_val_score(\n",
    "    sklm.LogisticRegression(penalty='l1'), \n",
    "    df_s[base_cols+state_cols], \n",
    "    df_s['winner'], \n",
    "    scoring='accuracy', \n",
    "    cv=5)\n",
    "champ_gold_scores.mean()"
   ]
  },
  {
   "cell_type": "code",
   "execution_count": 134,
   "metadata": {
    "collapsed": false
   },
   "outputs": [
    {
     "data": {
      "text/plain": [
       "0.58724012579490092"
      ]
     },
     "execution_count": 134,
     "metadata": {},
     "output_type": "execute_result"
    }
   ],
   "source": [
    "champ_gold_item_scores = skcv.cross_val_score(\n",
    "    sklm.LogisticRegression(penalty='l1'), \n",
    "    df_s[base_cols+state_cols+item_cols], \n",
    "    df_s['winner'], \n",
    "    scoring='accuracy', \n",
    "    cv=5)\n",
    "champ_gold_item_scores.mean()"
   ]
  },
  {
   "cell_type": "code",
   "execution_count": 51,
   "metadata": {
    "collapsed": false
   },
   "outputs": [
    {
     "data": {
      "text/plain": [
       "0.6256656573039574"
      ]
     },
     "execution_count": 51,
     "metadata": {},
     "output_type": "execute_result"
    }
   ],
   "source": [
    "cols = base_cols+state_cols+item_cols\n",
    "m = sklm.LogisticRegression().fit(\n",
    "    df_s[cols], \n",
    "    df_s['winner'], \n",
    ")\n",
    "m.score(df_s[cols], df_s['winner'])"
   ]
  },
  {
   "cell_type": "code",
   "execution_count": 80,
   "metadata": {
    "collapsed": false
   },
   "outputs": [
    {
     "data": {
      "text/plain": [
       "0.52051767135060634"
      ]
     },
     "execution_count": 80,
     "metadata": {},
     "output_type": "execute_result"
    }
   ],
   "source": [
    "only_item_scores = skcv.cross_val_score(\n",
    "    sklm.LogisticRegression(penalty='l1'), \n",
    "    df_s[item_cols], \n",
    "    df_s['winner'], \n",
    "    scoring='accuracy', \n",
    "    cv=5)\n",
    "only_item_scores.mean()"
   ]
  },
  {
   "cell_type": "code",
   "execution_count": 194,
   "metadata": {
    "collapsed": false
   },
   "outputs": [
    {
     "data": {
      "text/plain": [
       "0.52734864300626305"
      ]
     },
     "execution_count": 194,
     "metadata": {},
     "output_type": "execute_result"
    }
   ],
   "source": [
    "cols = item_cols\n",
    "m = sklm.LogisticRegression(penalty='l2').fit(\n",
    "    df_s[cols], \n",
    "    df_s['winner'], \n",
    ")\n",
    "m.score(df_test[cols], y_test)"
   ]
  },
  {
   "cell_type": "code",
   "execution_count": 181,
   "metadata": {
    "collapsed": false
   },
   "outputs": [
    {
     "data": {
      "text/plain": [
       "[(0.0, 'i_1301'),\n",
       " (0.0, 'i_1303'),\n",
       " (0.0, 'i_1304'),\n",
       " (0.0, 'i_1307'),\n",
       " (0.0, 'i_1308'),\n",
       " (0.0, 'i_1309'),\n",
       " (0.0, 'i_1310'),\n",
       " (0.0, 'i_1313'),\n",
       " (0.0, 'i_1314'),\n",
       " (0.0, 'i_1315'),\n",
       " (0.0, 'i_1316'),\n",
       " (0.0, 'i_1317'),\n",
       " (0.0, 'i_1318'),\n",
       " (0.0, 'i_1321'),\n",
       " (0.0, 'i_1322'),\n",
       " (0.0, 'i_1324'),\n",
       " (0.0, 'i_1325'),\n",
       " (0.0, 'i_1326'),\n",
       " (0.0, 'i_1328'),\n",
       " (0.0, 'i_1330'),\n",
       " (0.0, 'i_1331'),\n",
       " (0.0, 'i_1333'),\n",
       " (0.0, 'i_1414'),\n",
       " (0.0, 'i_2045'),\n",
       " (0.0, 'i_2138'),\n",
       " (0.0, 'i_2139'),\n",
       " (0.0, 'i_3022'),\n",
       " (0.0, 'i_3025'),\n",
       " (0.0, 'i_3033'),\n",
       " (0.0, 'i_3036'),\n",
       " (0.0, 'i_3050'),\n",
       " (0.0, 'i_3053'),\n",
       " (0.0, 'i_3074'),\n",
       " (0.0, 'i_3075'),\n",
       " (0.0, 'i_3078'),\n",
       " (0.0, 'i_3083'),\n",
       " (0.0, 'i_3089'),\n",
       " (0.0, 'i_3100'),\n",
       " (0.0, 'i_3105'),\n",
       " (0.0, 'i_3116'),\n",
       " (0.0, 'i_3135'),\n",
       " (0.0, 'i_3141'),\n",
       " (0.0, 'i_3146'),\n",
       " (0.0, 'i_3151'),\n",
       " (0.0, 'i_3157'),\n",
       " (0.0, 'i_3174'),\n",
       " (0.0, 'i_3363'),\n",
       " (0.0, 'i_3512'),\n",
       " (0.0, 'i_3599'),\n",
       " (0.0, 'i_3708'),\n",
       " (0.0, 'i_3714'),\n",
       " (0.0, 'i_3722'),\n",
       " (0.0, 'i_3723'),\n",
       " (0.0, 'i_3800'),\n",
       " (0.0017176636519906465, 'i_3070'),\n",
       " (-0.0019529122367761781, 'i_3155'),\n",
       " (-0.0025455828040457222, 'i_3302'),\n",
       " (-0.0043895055681969887, 'i_3341'),\n",
       " (-0.0072098193295320979, 'i_3047'),\n",
       " (-0.0086183561245657334, 'i_2044'),\n",
       " (0.011354238838184472, 'i_2010'),\n",
       " (-0.01450187850538362, 'i_3096'),\n",
       " (0.022781669182699738, 'i_1001'),\n",
       " (0.027286861505572024, 'i_3301'),\n",
       " (0.027494482597359201, 'i_3028'),\n",
       " (-0.02787322661195769, 'i_2031'),\n",
       " (-0.034524256201629258, 'i_1051'),\n",
       " (-0.035547581015417072, 'i_1056'),\n",
       " (0.035801788991247176, 'i_3004'),\n",
       " (-0.035816319785078064, 'i_1028'),\n",
       " (-0.038242540426328998, 'i_1031'),\n",
       " (0.038296542519365213, 'i_3342'),\n",
       " (-0.039163314632156235, 'i_3158'),\n",
       " (0.042980003162515559, 'i_2003'),\n",
       " (0.05054836306999045, 'i_1401'),\n",
       " (-0.051125819022339432, 'i_1055'),\n",
       " (0.051507993364048675, 'i_3097'),\n",
       " (-0.05270926870801191, 'i_1039'),\n",
       " (0.057365476688685586, 'i_1409'),\n",
       " (-0.058227296086769784, 'i_1054'),\n",
       " (0.058243656949430997, 'i_3303'),\n",
       " (0.062926337283996783, 'i_3211'),\n",
       " (0.065390297845030518, 'i_3801'),\n",
       " (-0.067923695072601348, 'i_3165'),\n",
       " (-0.077476634806568315, 'i_1004'),\n",
       " (0.080180171271067469, 'i_1083'),\n",
       " (0.08461799513253318, 'i_3009'),\n",
       " (-0.0858075837063738, 'i_3196'),\n",
       " (0.08775052316703677, 'i_1043'),\n",
       " (0.088331124622133633, 'i_3191'),\n",
       " (0.090329159083372815, 'i_1334'),\n",
       " (0.091038778986457458, 'i_1057'),\n",
       " (-0.09116159799033699, 'i_2015'),\n",
       " (0.095521289751135482, 'i_2043'),\n",
       " (-0.097419492016467282, 'i_2032'),\n",
       " (-0.097680551752329856, 'i_1413'),\n",
       " (-0.097874958201005086, 'i_1052'),\n",
       " (-0.099444004974623496, 'i_1041'),\n",
       " (0.10279555391351304, 'i_3098'),\n",
       " (-0.10300852767359155, 'i_1036'),\n",
       " (0.10599332148221752, 'i_3114'),\n",
       " (0.10693273845346012, 'i_3145'),\n",
       " (-0.10999308712591609, 'i_3069'),\n",
       " (0.11499505527237436, 'i_3706'),\n",
       " (0.11883850714072113, 'i_3108'),\n",
       " (-0.12116805138520589, 'i_1027'),\n",
       " (0.12197207564136668, 'i_3024'),\n",
       " (-0.12374827265427571, 'i_3285'),\n",
       " (-0.12766145889547531, 'i_1006'),\n",
       " (0.13406024119038018, 'i_3401'),\n",
       " (0.1369493164248303, 'i_3057'),\n",
       " (0.14097669911686966, 'i_1011'),\n",
       " (0.14809629862942897, 'i_2302'),\n",
       " (0.15249315308173386, 'i_3134'),\n",
       " (0.15680738781893794, 'i_3142'),\n",
       " (0.15806753195222312, 'i_3144'),\n",
       " (0.16142375772747944, 'i_1026'),\n",
       " (0.16496120513901938, 'i_1082'),\n",
       " (0.16606890997709103, 'i_1029'),\n",
       " (0.17212603766429327, 'i_2049'),\n",
       " (0.17946758803678201, 'i_3071'),\n",
       " (0.18478799813099145, 'i_1410'),\n",
       " (-0.1870287509685617, 'i_1042'),\n",
       " (-0.18865386637848627, 'i_3711'),\n",
       " (-0.19977795829240921, 'i_1018'),\n",
       " (0.20123516841011888, 'i_2033'),\n",
       " (0.20689710913378226, 'i_3044'),\n",
       " (0.21032386798853778, 'i_3006'),\n",
       " (-0.2152247512414398, 'i_3724'),\n",
       " (0.21826088036513755, 'i_3041'),\n",
       " (-0.21842027957900814, 'i_3123'),\n",
       " (-0.22024697592986789, 'i_3718'),\n",
       " (0.22215071793458435, 'i_1306'),\n",
       " (0.23362136236564393, 'i_1037'),\n",
       " (0.24057357529557122, 'i_1053'),\n",
       " (0.24152379902585733, 'i_1402'),\n",
       " (0.24206785495813637, 'i_2041'),\n",
       " (0.25236832846841128, 'i_3010'),\n",
       " (0.25528310727859405, 'i_1415'),\n",
       " (0.25932135985768656, 'i_3152'),\n",
       " (0.26239000893941888, 'i_3067'),\n",
       " (0.26398227231150401, 'i_3709'),\n",
       " (0.26440787839786961, 'i_3133'),\n",
       " (-0.27315087180619491, 'i_2004'),\n",
       " (0.27320966100601091, 'i_3748'),\n",
       " (-0.27363742441543421, 'i_1033'),\n",
       " (0.27455060830932942, 'i_3113'),\n",
       " (-0.2747599194772718, 'i_1408'),\n",
       " (0.27744679118980559, 'i_3340'),\n",
       " (0.28364689678045579, 'i_3035'),\n",
       " (-0.2916735273875094, 'i_3020'),\n",
       " (0.29441823356063207, 'i_3715'),\n",
       " (0.30110839539392698, 'i_3001'),\n",
       " (-0.30648921314828609, 'i_3197'),\n",
       " (0.31131735635052549, 'i_1329'),\n",
       " (0.31324119069639023, 'i_3717'),\n",
       " (0.32226288827453853, 'i_1323'),\n",
       " (0.32233814643917652, 'i_1327'),\n",
       " (0.32685980970204964, 'i_3077'),\n",
       " (0.32888380425723424, 'i_1038'),\n",
       " (-0.33100348343774905, 'i_1311'),\n",
       " (0.33217864998229429, 'i_2053'),\n",
       " (0.34235233684269711, 'i_1400'),\n",
       " (-0.3457972554405207, 'i_1412'),\n",
       " (-0.35200060251253668, 'i_3153'),\n",
       " (-0.3695442558254935, 'i_3065'),\n",
       " (-0.37172236958938121, 'i_3707'),\n",
       " (0.37203478857113681, 'i_3140'),\n",
       " (0.37969746512896513, 'i_3072'),\n",
       " (-0.37994747997259631, 'i_1319'),\n",
       " (0.39538839962631805, 'i_3086'),\n",
       " (0.40197715800042794, 'i_3031'),\n",
       " (0.40288350091889386, 'i_3046'),\n",
       " (0.42041165828702326, 'i_3742'),\n",
       " (0.42731027179468473, 'i_3110'),\n",
       " (0.43227250393637939, 'i_3751'),\n",
       " (0.44339051321240253, 'i_3034'),\n",
       " (0.4440421980675483, 'i_1058'),\n",
       " (0.4459228652130528, 'i_3052'),\n",
       " (0.44800209672596353, 'i_3136'),\n",
       " (0.45977333439896767, 'i_3111'),\n",
       " (0.46597424250312552, 'i_1300'),\n",
       " (0.47288559471804209, 'i_1305'),\n",
       " (0.49104065872124381, 'i_3082'),\n",
       " (0.49170661829396001, 'i_3093'),\n",
       " (-0.50221987732717988, 'i_3094'),\n",
       " (-0.51401174556155438, 'i_3115'),\n",
       " (0.53128195108810683, 'i_3068'),\n",
       " (0.53368575283746389, 'i_3092'),\n",
       " (0.53472951776016753, 'i_3726'),\n",
       " (-0.56666546491309877, 'i_3713'),\n",
       " (0.56746653287600723, 'i_3710'),\n",
       " (-0.57053736663102617, 'i_3725'),\n",
       " (0.58799015283034806, 'i_3087'),\n",
       " (0.60227450853761411, 'i_2303'),\n",
       " (0.60763042174151527, 'i_1403'),\n",
       " (0.62236418387503845, 'i_3117'),\n",
       " (0.72714138393727701, 'i_3124'),\n",
       " (0.74455421785460174, 'i_3027'),\n",
       " (0.74727084739770555, 'i_3156'),\n",
       " (0.75247706113656987, 'i_3101'),\n",
       " (-0.81020535308320507, 'i_1411'),\n",
       " (0.83749930329099498, 'i_3085'),\n",
       " (0.91256464764866729, 'i_2301'),\n",
       " (0.96028414210756852, 'i_3508')]"
      ]
     },
     "execution_count": 181,
     "metadata": {},
     "output_type": "execute_result"
    }
   ],
   "source": [
    "i_coeffs = zip(m.coef_[0], cols)\n",
    "i_coeffs.sort(key=lambda x: abs(x[0]))\n",
    "i_coeffs"
   ]
  },
  {
   "cell_type": "code",
   "execution_count": 104,
   "metadata": {
    "collapsed": false
   },
   "outputs": [
    {
     "data": {
      "text/plain": [
       "0.59916492693110646"
      ]
     },
     "execution_count": 104,
     "metadata": {},
     "output_type": "execute_result"
    }
   ],
   "source": [
    "m.score(df_test[item_cols+state_cols+base_cols], y_test)"
   ]
  },
  {
   "cell_type": "markdown",
   "metadata": {},
   "source": [
    "SVM"
   ]
  },
  {
   "cell_type": "code",
   "execution_count": 19,
   "metadata": {
    "collapsed": true
   },
   "outputs": [],
   "source": [
    "from sklearn import svm"
   ]
  },
  {
   "cell_type": "code",
   "execution_count": 135,
   "metadata": {
    "collapsed": false,
    "scrolled": true
   },
   "outputs": [
    {
     "name": "stdout",
     "output_type": "stream",
     "text": [
      "c: 0.0001, score: 0.506003968886\n",
      "c: 0.001, score: 0.506003968886\n",
      "c: 0.01, score: 0.542237313252\n",
      "c: 0.1, score: 0.556752105321\n",
      "c: 1, score: 0.558526581596\n",
      "c: 10, score: 0.559675515622\n",
      "c: 100, score: 0.559884283946\n",
      "c: 1000, score: 0.559779845303\n"
     ]
    }
   ],
   "source": [
    "for i in range(-4, 4, 1):\n",
    "    c = 10**i\n",
    "    champ_scores = skcv.cross_val_score(\n",
    "        svm.LinearSVC(C=c, dual=False, penalty='l1'), \n",
    "        df_s[base_cols], \n",
    "        df_s['winner'], \n",
    "        scoring='accuracy', \n",
    "        cv=5)\n",
    "    print(\"c: {}, score: {}\".format(c, champ_scores.mean()))"
   ]
  },
  {
   "cell_type": "code",
   "execution_count": 139,
   "metadata": {
    "collapsed": false
   },
   "outputs": [
    {
     "data": {
      "text/plain": [
       "0.55842236087446251"
      ]
     },
     "execution_count": 139,
     "metadata": {},
     "output_type": "execute_result"
    }
   ],
   "source": [
    "champ_scores = skcv.cross_val_score(\n",
    "    svm.LinearSVC(), \n",
    "    df_s[base_cols], \n",
    "    df_s['winner'], \n",
    "    scoring='accuracy', \n",
    "    cv=5)\n",
    "champ_scores.mean()"
   ]
  },
  {
   "cell_type": "code",
   "execution_count": 94,
   "metadata": {
    "collapsed": false
   },
   "outputs": [
    {
     "data": {
      "text/plain": [
       "0.60269568548485919"
      ]
     },
     "execution_count": 94,
     "metadata": {},
     "output_type": "execute_result"
    }
   ],
   "source": [
    "champ_gold_scores = skcv.cross_val_score(\n",
    "    svm.LinearSVC(), \n",
    "    df_s[base_cols+state_cols], \n",
    "    df_s['winner'], \n",
    "    scoring='accuracy', \n",
    "    cv=5)\n",
    "champ_gold_scores.mean()"
   ]
  },
  {
   "cell_type": "code",
   "execution_count": 96,
   "metadata": {
    "collapsed": false
   },
   "outputs": [
    {
     "data": {
      "text/plain": [
       "0.5960123196806959"
      ]
     },
     "execution_count": 96,
     "metadata": {},
     "output_type": "execute_result"
    }
   ],
   "source": [
    "champ_gold_item_scores = skcv.cross_val_score(\n",
    "    svm.LinearSVC(), \n",
    "    df_s[base_cols+state_cols+item_cols], \n",
    "    df_s['winner'], \n",
    "    scoring='accuracy', \n",
    "    cv=5)\n",
    "champ_gold_item_scores.mean()"
   ]
  },
  {
   "cell_type": "code",
   "execution_count": 105,
   "metadata": {
    "collapsed": true
   },
   "outputs": [],
   "source": [
    "df_ss = df_s.sample(2000)"
   ]
  },
  {
   "cell_type": "code",
   "execution_count": 110,
   "metadata": {
    "collapsed": false,
    "scrolled": true
   },
   "outputs": [
    {
     "data": {
      "text/plain": [
       "0.5535000000000001"
      ]
     },
     "execution_count": 110,
     "metadata": {},
     "output_type": "execute_result"
    }
   ],
   "source": [
    "champ_scores = skcv.cross_val_score(\n",
    "    svm.SVC(kernel='linear'), \n",
    "    df_ss[base_cols], \n",
    "    df_ss['winner'], \n",
    "    scoring='accuracy', \n",
    "    cv=5)\n",
    "champ_scores.mean()"
   ]
  },
  {
   "cell_type": "code",
   "execution_count": 131,
   "metadata": {
    "collapsed": false,
    "scrolled": true
   },
   "outputs": [
    {
     "data": {
      "image/png": "[encoded data removed]",
      "text/plain": [
       "<matplotlib.figure.Figure at 0x11cc6c810>"
      ]
     },
     "metadata": {},
     "output_type": "display_data"
    }
   ],
   "source": [
    "logistic = [0.56761094672024281, 0.60217316505038165, 0.59851841114026771]\n",
    "linearsvm = [0.56698436926122708, 0.60269568548485919, 0.5960123196806959]\n",
    "n_groups = 3\n",
    "\n",
    "fig, ax = plt.subplots()\n",
    "\n",
    "index = np.arange(n_groups)\n",
    "bar_width = 0.35\n",
    "\n",
    "opacity = 0.4\n",
    "error_config = {'ecolor': '0.3'}\n",
    "\n",
    "rects1 = plt.bar(index, logistic, bar_width,\n",
    "                 alpha=opacity,\n",
    "                 color='b',\n",
    "                 label='Logistic')\n",
    "\n",
    "rects2 = plt.bar(index + bar_width, linearsvm, bar_width,\n",
    "                 alpha=opacity,\n",
    "                 color='r',\n",
    "                 label='SVM')\n",
    "\n",
    "ax.set_ylim([.5,.65])\n",
    "\n",
    "plt.xlabel('Model')\n",
    "plt.ylabel('5-fold CV Accuracy')\n",
    "plt.title('Model Accuracy for Linear clasifiers')\n",
    "plt.xticks(index + bar_width, (1, 2, 3))\n",
    "plt.legend()\n",
    "\n",
    "plt.tight_layout()\n",
    "plt.savefig('linear.pdf')\n",
    "plt.show()\n"
   ]
  },
  {
   "cell_type": "markdown",
   "metadata": {},
   "source": [
    "Confusion Matrix"
   ]
  },
  {
   "cell_type": "code",
   "execution_count": 75,
   "metadata": {
    "collapsed": true
   },
   "outputs": [],
   "source": [
    "import sklearn.metrics"
   ]
  },
  {
   "cell_type": "code",
   "execution_count": 140,
   "metadata": {
    "collapsed": false
   },
   "outputs": [],
   "source": [
    "cols = base_cols+state_cols+item_cols\n",
    "m = svm.LinearSVC().fit(\n",
    "    df_s[cols], \n",
    "    df_s['winner'], \n",
    ")\n",
    "predicted = m.predict(df_test[cols])"
   ]
  },
  {
   "cell_type": "code",
   "execution_count": 141,
   "metadata": {
    "collapsed": false,
    "scrolled": true
   },
   "outputs": [
    {
     "data": {
      "text/plain": [
       "array([[743, 463],\n",
       "       [504, 685]])"
      ]
     },
     "execution_count": 141,
     "metadata": {},
     "output_type": "execute_result"
    }
   ],
   "source": [
    "sklearn.metrics.confusion_matrix(y_test, predicted)"
   ]
  },
  {
   "cell_type": "code",
   "execution_count": 142,
   "metadata": {
    "collapsed": false
   },
   "outputs": [
    {
     "data": {
      "text/plain": [
       "array([[750, 456],\n",
       "       [500, 689]])"
      ]
     },
     "execution_count": 142,
     "metadata": {},
     "output_type": "execute_result"
    }
   ],
   "source": [
    "cols = base_cols+state_cols+item_cols\n",
    "m = sklm.LogisticRegression().fit(\n",
    "    df_s[cols], \n",
    "    df_s['winner'], \n",
    ")\n",
    "predicted = m.predict(df_test[cols])\n",
    "sklearn.metrics.confusion_matrix(y_test, predicted)"
   ]
  },
  {
   "cell_type": "markdown",
   "metadata": {},
   "source": [
    "Random Forest\n",
    "----"
   ]
  },
  {
   "cell_type": "markdown",
   "metadata": {},
   "source": [
    "Poster Computations"
   ]
  },
  {
   "cell_type": "code",
   "execution_count": 144,
   "metadata": {
    "collapsed": false,
    "scrolled": true
   },
   "outputs": [
    {
     "name": "stdout",
     "output_type": "stream",
     "text": [
      "0.5827500269\n",
      "0.564582824283\n",
      "0.544845773218\n",
      "0.535969033425\n",
      "0.526991777568\n"
     ]
    }
   ],
   "source": [
    "scores = []\n",
    "for d in [1, 2, 3, 4, 5]:\n",
    "    tree_champ_scores = skcv.cross_val_score(\n",
    "        skes.AdaBoostClassifier(\n",
    "            n_estimators = 200,\n",
    "            base_estimator=sk.tree.DecisionTreeClassifier(max_depth=d)\n",
    "        ), \n",
    "        df_s[base_cols + state_cols + item_cols],\n",
    "        df_s['winner'], \n",
    "        scoring='accuracy', \n",
    "        cv=5,\n",
    "        n_jobs=2)\n",
    "    m = tree_champ_scores.mean()\n",
    "    print(m)\n",
    "    scores.append(m)"
   ]
  },
  {
   "cell_type": "code",
   "execution_count": 145,
   "metadata": {
    "collapsed": false
   },
   "outputs": [
    {
     "data": {
      "image/png": "[encoded data removed]",
      "text/plain": [
       "<matplotlib.figure.Figure at 0x10c1823d0>"
      ]
     },
     "metadata": {},
     "output_type": "display_data"
    }
   ],
   "source": [
    "scores = [0.5827500269,\n",
    "0.564582824283,\n",
    "0.544845773218,\n",
    "0.535969033425,\n",
    "0.526991777568]\n",
    "fig, ax = plt.subplots()\n",
    "\n",
    "opacity = 0.4\n",
    "\n",
    "rects1 = plt.plot([1, 2, 3, 4, 5], scores,\n",
    "                  marker='^',\n",
    "                  alpha=opacity,\n",
    "                 label='Adaboost')\n",
    "\n",
    "ax.set_ylim([.5,.65])\n",
    "\n",
    "plt.xlabel('Tree Depth')\n",
    "plt.ylabel('5-fold CV Accuracy')\n",
    "plt.title('Model 3 Accuracy wrt Tree Depth')\n",
    "plt.xticks([1, 2, 3, 4, 5])\n",
    "\n",
    "plt.tight_layout()\n",
    "plt.savefig('treedepth.pdf')\n",
    "plt.show()\n"
   ]
  },
  {
   "cell_type": "code",
   "execution_count": 146,
   "metadata": {
    "collapsed": false,
    "scrolled": false
   },
   "outputs": [
    {
     "data": {
      "image/png": "[encoded data removed]",
      "text/plain": [
       "<matplotlib.figure.Figure at 0x10c17cd90>"
      ]
     },
     "metadata": {},
     "output_type": "display_data"
    }
   ],
   "source": [
    "adaboost = [0.5692803836185758, 0.59183406378105197, 0.58807487253867152]\n",
    "n_groups = 3\n",
    "\n",
    "fig, ax = plt.subplots()\n",
    "\n",
    "index = np.arange(n_groups)\n",
    "bar_width = 0.35\n",
    "\n",
    "opacity = 0.4\n",
    "error_config = {'ecolor': '0.3'}\n",
    "\n",
    "rects1 = plt.bar(index, adaboost, bar_width,\n",
    "                 alpha=opacity,\n",
    "                 color='b',\n",
    "                 label='Adaboost')\n",
    "\n",
    "ax.set_ylim([.5,.65])\n",
    "\n",
    "plt.xlabel('Model')\n",
    "plt.ylabel('5-fold CV Accuracy')\n",
    "plt.title('Model Accuracy for Depth-1 Adaboost Trees')\n",
    "plt.xticks(index + bar_width/2, (1, 2, 3))\n",
    "\n",
    "plt.tight_layout()\n",
    "plt.savefig('adaboost.pdf')\n",
    "plt.show()\n"
   ]
  },
  {
   "cell_type": "markdown",
   "metadata": {},
   "source": [
    "Generalization Error"
   ]
  },
  {
   "cell_type": "code",
   "execution_count": 164,
   "metadata": {
    "collapsed": false
   },
   "outputs": [
    {
     "name": "stdout",
     "output_type": "stream",
     "text": [
      "0.809439281612\n",
      "0.523173277662\n"
     ]
    }
   ],
   "source": [
    "cols = base_cols\n",
    "m = skes.AdaBoostClassifier(\n",
    "        n_estimators = 200,\n",
    "        base_estimator = sk.tree.DecisionTreeClassifier(max_depth=3)\n",
    "    ).fit(\n",
    "    df_s[cols],\n",
    "    df_s['winner']\n",
    ")\n",
    "print(m.score(df_s[cols], df_s['winner']))\n",
    "print(m.score(df_test[cols], y_test))"
   ]
  },
  {
   "cell_type": "code",
   "execution_count": 165,
   "metadata": {
    "collapsed": false
   },
   "outputs": [
    {
     "name": "stdout",
     "output_type": "stream",
     "text": [
      "0.841077581706\n",
      "0.54739039666\n"
     ]
    }
   ],
   "source": [
    "cols = base_cols + state_cols\n",
    "m = skes.AdaBoostClassifier(\n",
    "        n_estimators = 200,\n",
    "        base_estimator = sk.tree.DecisionTreeClassifier(max_depth=3)\n",
    "    ).fit(\n",
    "    df_s[cols],\n",
    "    df_s['winner']\n",
    ")\n",
    "print(m.score(df_s[cols], df_s['winner']))\n",
    "print(m.score(df_test[cols], y_test))"
   ]
  },
  {
   "cell_type": "code",
   "execution_count": 166,
   "metadata": {
    "collapsed": false
   },
   "outputs": [
    {
     "name": "stdout",
     "output_type": "stream",
     "text": [
      "0.844836587658\n",
      "0.560751565762\n"
     ]
    }
   ],
   "source": [
    "cols = base_cols + state_cols + item_cols\n",
    "m = skes.AdaBoostClassifier(\n",
    "        n_estimators = 200,\n",
    "        base_estimator = sk.tree.DecisionTreeClassifier(max_depth=3)\n",
    "    ).fit(\n",
    "    df_s[cols],\n",
    "    df_s['winner']\n",
    ")\n",
    "print(m.score(df_s[cols], df_s['winner']))\n",
    "print(m.score(df_test[cols], y_test))"
   ]
  },
  {
   "cell_type": "code",
   "execution_count": 177,
   "metadata": {
    "collapsed": false
   },
   "outputs": [
    {
     "data": {
      "image/png": "[encoded data removed]",
      "text/plain": [
       "<matplotlib.figure.Figure at 0x107a9e750>"
      ]
     },
     "metadata": {},
     "output_type": "display_data"
    }
   ],
   "source": [
    "test = [0.809439281612, 0.841077581706, 0.844836587658]\n",
    "train = [0.523173277662, 0.54739039666, 0.560751565762]\n",
    "n_groups = 3\n",
    "\n",
    "fig, ax = plt.subplots()\n",
    "\n",
    "index = np.arange(n_groups)\n",
    "bar_width = 0.35\n",
    "\n",
    "opacity = .4\n",
    "error_config = {'ecolor': '0.3'}\n",
    "\n",
    "rects1 = plt.bar(index, test, bar_width,\n",
    "                 alpha=opacity,\n",
    "                 color='g',\n",
    "                 label='Test Set')\n",
    "rects1 = plt.bar(index+bar_width, train, bar_width,\n",
    "                 alpha=opacity,\n",
    "                 color='b',\n",
    "                 label='Training Set')\n",
    "\n",
    "ax.set_ylim([.5,1])\n",
    "\n",
    "plt.xlabel('Model')\n",
    "plt.ylabel('Raw Accuracy')\n",
    "plt.title('Overfitting for Depth-3 Adaboost')\n",
    "plt.xticks(index + bar_width, (1, 2, 3))\n",
    "plt.legend()\n",
    "\n",
    "plt.tight_layout()\n",
    "plt.savefig('adaboosttraintest.pdf')\n",
    "plt.show()"
   ]
  },
  {
   "cell_type": "markdown",
   "metadata": {},
   "source": [
    "Champ"
   ]
  },
  {
   "cell_type": "code",
   "execution_count": 43,
   "metadata": {
    "collapsed": false
   },
   "outputs": [
    {
     "data": {
      "text/plain": [
       "0.5692803836185758"
      ]
     },
     "execution_count": 43,
     "metadata": {},
     "output_type": "execute_result"
    }
   ],
   "source": [
    "tree_champ_scores = skcv.cross_val_score(\n",
    "    skes.AdaBoostClassifier(\n",
    "        n_estimators = 200,\n",
    "    ), \n",
    "    df_s[base_cols],\n",
    "    df_s['winner'], \n",
    "    scoring='accuracy', \n",
    "    cv=5,\n",
    "    n_jobs=2)\n",
    "tree_champ_scores.mean()"
   ]
  },
  {
   "cell_type": "code",
   "execution_count": 32,
   "metadata": {
    "collapsed": false
   },
   "outputs": [
    {
     "data": {
      "text/plain": [
       "0.5463111299747998"
      ]
     },
     "execution_count": 32,
     "metadata": {},
     "output_type": "execute_result"
    }
   ],
   "source": [
    "tree_champ_scores = skcv.cross_val_score(\n",
    "    skes.GradientBoostingClassifier(\n",
    "        max_depth = 2,\n",
    "        n_estimators = 100,\n",
    "    ), \n",
    "    df_s[base_cols],\n",
    "    df_s['winner'], \n",
    "    scoring='accuracy', \n",
    "    cv=5,\n",
    "    n_jobs=2)\n",
    "tree_champ_scores.mean()"
   ]
  },
  {
   "cell_type": "code",
   "execution_count": 51,
   "metadata": {
    "collapsed": false
   },
   "outputs": [
    {
     "data": {
      "text/plain": [
       "0.55581264969348199"
      ]
     },
     "execution_count": 51,
     "metadata": {},
     "output_type": "execute_result"
    }
   ],
   "source": [
    "tree_champ_scores = skcv.cross_val_score(\n",
    "    skes.RandomForestClassifier(\n",
    "        max_depth=3,\n",
    "        n_estimators=200,\n",
    "        n_jobs=2,\n",
    "    ), \n",
    "    df_s[base_cols],\n",
    "    df_s['winner'], \n",
    "    scoring='accuracy', \n",
    "    cv=5,\n",
    "    n_jobs=2)\n",
    "tree_champ_scores.mean()"
   ]
  },
  {
   "cell_type": "markdown",
   "metadata": {},
   "source": [
    "Base State"
   ]
  },
  {
   "cell_type": "code",
   "execution_count": 14,
   "metadata": {
    "collapsed": false
   },
   "outputs": [
    {
     "data": {
      "text/plain": [
       "0.57815587124989132"
      ]
     },
     "execution_count": 14,
     "metadata": {},
     "output_type": "execute_result"
    }
   ],
   "source": [
    "tree_state_scores = skcv.cross_val_score(\n",
    "    skes.RandomForestClassifier(\n",
    "        max_depth=3,\n",
    "        n_estimators=100,\n",
    "        n_jobs=2,\n",
    "    ), \n",
    "    df_s[base_cols + state_cols],\n",
    "    df_s['winner'], \n",
    "    scoring='accuracy', \n",
    "    cv=5,\n",
    "    n_jobs=-1)\n",
    "tree_state_scores.mean()"
   ]
  },
  {
   "cell_type": "code",
   "execution_count": 44,
   "metadata": {
    "collapsed": false
   },
   "outputs": [
    {
     "data": {
      "text/plain": [
       "0.59183406378105197"
      ]
     },
     "execution_count": 44,
     "metadata": {},
     "output_type": "execute_result"
    }
   ],
   "source": [
    "tree_state_scores = skcv.cross_val_score(\n",
    "    skes.AdaBoostClassifier(\n",
    "        n_estimators=200,\n",
    "    ), \n",
    "    df_s[base_cols + state_cols],\n",
    "    df_s['winner'], \n",
    "    scoring='accuracy', \n",
    "    cv=5,\n",
    "    n_jobs=-1)\n",
    "tree_state_scores.mean()"
   ]
  },
  {
   "cell_type": "code",
   "execution_count": 55,
   "metadata": {
    "collapsed": false
   },
   "outputs": [
    {
     "data": {
      "text/plain": [
       "0.55988237691977161"
      ]
     },
     "execution_count": 55,
     "metadata": {},
     "output_type": "execute_result"
    }
   ],
   "source": [
    "tree_state_scores = skcv.cross_val_score(\n",
    "    skes.AdaBoostClassifier(\n",
    "        n_estimators=200,\n",
    "        base_estimator=sk.tree.DecisionTreeClassifier(max_depth=2)\n",
    "    ), \n",
    "    df_s[base_cols + state_cols],\n",
    "    df_s['winner'], \n",
    "    scoring='accuracy', \n",
    "    cv=5,\n",
    "    n_jobs=-1)\n",
    "tree_state_scores.mean()"
   ]
  },
  {
   "cell_type": "code",
   "execution_count": 65,
   "metadata": {
    "collapsed": false
   },
   "outputs": [
    {
     "data": {
      "text/plain": [
       "0.57116071684424186"
      ]
     },
     "execution_count": 65,
     "metadata": {},
     "output_type": "execute_result"
    }
   ],
   "source": [
    "tree_state_scores = skcv.cross_val_score(\n",
    "    skes.AdaBoostClassifier(\n",
    "        n_estimators=3,\n",
    "        base_estimator=sk.tree.DecisionTreeClassifier(max_depth=2)\n",
    "    ), \n",
    "    df_s[state_cols],\n",
    "    df_s['winner'], \n",
    "    scoring='accuracy', \n",
    "    cv=5,\n",
    "    n_jobs=-1)\n",
    "tree_state_scores.mean()"
   ]
  },
  {
   "cell_type": "markdown",
   "metadata": {},
   "source": [
    "Dimensionality Reduction\n",
    "====="
   ]
  },
  {
   "cell_type": "code",
   "execution_count": 58,
   "metadata": {
    "collapsed": false,
    "scrolled": true
   },
   "outputs": [
    {
     "data": {
      "text/plain": [
       "33"
      ]
     },
     "execution_count": 58,
     "metadata": {},
     "output_type": "execute_result"
    }
   ],
   "source": [
    "item_counts = df[item_cols].sum()\n",
    "major_item_cols = item_counts[item_counts > 4000].axes[0].tolist()\n",
    "len(major_item_cols)"
   ]
  },
  {
   "cell_type": "code",
   "execution_count": 71,
   "metadata": {
    "collapsed": false
   },
   "outputs": [
    {
     "data": {
      "text/plain": [
       "66"
      ]
     },
     "execution_count": 71,
     "metadata": {},
     "output_type": "execute_result"
    }
   ],
   "source": [
    "base_counts = df[base_cols].sum()\n",
    "major_base_cols = base_counts[base_counts > 6000].axes[0].tolist()\n",
    "len(major_base_cols)"
   ]
  },
  {
   "cell_type": "code",
   "execution_count": 74,
   "metadata": {
    "collapsed": false
   },
   "outputs": [
    {
     "data": {
      "text/plain": [
       "0.58744965684251527"
      ]
     },
     "execution_count": 74,
     "metadata": {},
     "output_type": "execute_result"
    }
   ],
   "source": [
    "champ_scores = skcv.cross_val_score(\n",
    "    sklm.LogisticRegression(), \n",
    "    df_s[major_base_cols+state_cols+major_item_cols], \n",
    "    df_s['winner'], \n",
    "    scoring='accuracy', \n",
    "    cv=5)\n",
    "champ_scores.mean()"
   ]
  },
  {
   "cell_type": "code",
   "execution_count": 27,
   "metadata": {
    "collapsed": false
   },
   "outputs": [
    {
     "data": {
      "text/plain": [
       "0.5857797847720263"
      ]
     },
     "execution_count": 27,
     "metadata": {},
     "output_type": "execute_result"
    }
   ],
   "source": [
    "tree_state_scores = skcv.cross_val_score(\n",
    "    skes.RandomForestClassifier(\n",
    "        max_depth=8,\n",
    "        n_estimators=200,\n",
    "        n_jobs=2,\n",
    "    ), \n",
    "    df_s[base_cols + state_cols + item_cols],\n",
    "    df_s['winner'], \n",
    "    scoring='accuracy', \n",
    "    cv=5,\n",
    "    n_jobs=-1)\n",
    "tree_state_scores.mean()"
   ]
  },
  {
   "cell_type": "code",
   "execution_count": 79,
   "metadata": {
    "collapsed": false
   },
   "outputs": [
    {
     "data": {
      "text/plain": [
       "0.58807487253867152"
      ]
     },
     "execution_count": 79,
     "metadata": {},
     "output_type": "execute_result"
    }
   ],
   "source": [
    "tree_state_scores = skcv.cross_val_score(\n",
    "    skes.AdaBoostClassifier(\n",
    "        n_estimators=200,\n",
    "    ), \n",
    "    df_s[base_cols + state_cols + item_cols],\n",
    "    df_s['winner'], \n",
    "    scoring='accuracy', \n",
    "    cv=5,\n",
    "    n_jobs=-1)\n",
    "tree_state_scores.mean()"
   ]
  },
  {
   "cell_type": "code",
   "execution_count": 69,
   "metadata": {
    "collapsed": false
   },
   "outputs": [
    {
     "name": "stdout",
     "output_type": "stream",
     "text": [
      "0.564926931106\n",
      "0.85068393025\n"
     ]
    }
   ],
   "source": [
    "c = skes.AdaBoostClassifier(\n",
    "        n_estimators=200,\n",
    "        base_estimator=sk.tree.DecisionTreeClassifier(max_depth=3)\n",
    "    ).fit(df_s[base_cols + state_cols + item_cols],y_s)\n",
    "print(c.score(df_test[base_cols + state_cols + item_cols], y_test))\n",
    "print(c.score(df_s[base_cols + state_cols + item_cols], y_s))"
   ]
  },
  {
   "cell_type": "code",
   "execution_count": 68,
   "metadata": {
    "collapsed": false
   },
   "outputs": [
    {
     "name": "stdout",
     "output_type": "stream",
     "text": [
      "0.588308977035\n",
      "0.650308029654\n"
     ]
    }
   ],
   "source": [
    "c = skes.AdaBoostClassifier(\n",
    "        n_estimators=200,\n",
    "    ).fit(df_s[base_cols + state_cols + item_cols],y_s)\n",
    "print(c.score(df_test[base_cols + state_cols + item_cols], y_test))\n",
    "print(c.score(df_s[base_cols + state_cols + item_cols], y_s))"
   ]
  },
  {
   "cell_type": "code",
   "execution_count": 90,
   "metadata": {
    "collapsed": false
   },
   "outputs": [
    {
     "name": "stdout",
     "output_type": "stream",
     "text": [
      "1.0\n",
      "0.533993115318\n"
     ]
    }
   ],
   "source": [
    "c = skes.RandomForestClassifier(\n",
    "        n_estimators=200,\n",
    "    ).fit(df[base_cols].iloc[1:50000],df['winner'].iloc[1:50000])\n",
    "print(c.score(df[base_cols].iloc[1:50000],df['winner'].iloc[1:50000]))\n",
    "print(c.score(df[base_cols].iloc[50000:],df['winner'].iloc[50000:]))"
   ]
  },
  {
   "cell_type": "code",
   "execution_count": 54,
   "metadata": {
    "collapsed": false
   },
   "outputs": [
    {
     "data": {
      "text/plain": [
       "[(0.0, 'allyc_10'),\n",
       " (0.0, 'allyc_101'),\n",
       " (0.0, 'allyc_102'),\n",
       " (0.0, 'allyc_103'),\n",
       " (0.0, 'allyc_104'),\n",
       " (0.0, 'allyc_105'),\n",
       " (0.0, 'allyc_111'),\n",
       " (0.0, 'allyc_112'),\n",
       " (0.0, 'allyc_113'),\n",
       " (0.0, 'allyc_114'),\n",
       " (0.0, 'allyc_115'),\n",
       " (0.0, 'allyc_119'),\n",
       " (0.0, 'allyc_12'),\n",
       " (0.0, 'allyc_120'),\n",
       " (0.0, 'allyc_122'),\n",
       " (0.0, 'allyc_143'),\n",
       " (0.0, 'allyc_154'),\n",
       " (0.0, 'allyc_157'),\n",
       " (0.0, 'allyc_16'),\n",
       " (0.0, 'allyc_17'),\n",
       " (0.0, 'allyc_18'),\n",
       " (0.0, 'allyc_2'),\n",
       " (0.0, 'allyc_20'),\n",
       " (0.0, 'allyc_201'),\n",
       " (0.0, 'allyc_21'),\n",
       " (0.0, 'allyc_222'),\n",
       " (0.0, 'allyc_245'),\n",
       " (0.0, 'allyc_25'),\n",
       " (0.0, 'allyc_254'),\n",
       " (0.0, 'allyc_26'),\n",
       " (0.0, 'allyc_266'),\n",
       " (0.0, 'allyc_267'),\n",
       " (0.0, 'allyc_28'),\n",
       " (0.0, 'allyc_29'),\n",
       " (0.0, 'allyc_31'),\n",
       " (0.0, 'allyc_35'),\n",
       " (0.0, 'allyc_37'),\n",
       " (0.0, 'allyc_38'),\n",
       " (0.0, 'allyc_39'),\n",
       " (0.0, 'allyc_4'),\n",
       " (0.0, 'allyc_41'),\n",
       " (0.0, 'allyc_42'),\n",
       " (0.0, 'allyc_421'),\n",
       " (0.0, 'allyc_44'),\n",
       " (0.0, 'allyc_45'),\n",
       " (0.0, 'allyc_5'),\n",
       " (0.0, 'allyc_50'),\n",
       " (0.0, 'allyc_55'),\n",
       " (0.0, 'allyc_56'),\n",
       " (0.0, 'allyc_57'),\n",
       " (0.0, 'allyc_58'),\n",
       " (0.0, 'allyc_59'),\n",
       " (0.0, 'allyc_6'),\n",
       " (0.0, 'allyc_60'),\n",
       " (0.0, 'allyc_64'),\n",
       " (0.0, 'allyc_67'),\n",
       " (0.0, 'allyc_68'),\n",
       " (0.0, 'allyc_69'),\n",
       " (0.0, 'allyc_72'),\n",
       " (0.0, 'allyc_74'),\n",
       " (0.0, 'allyc_75'),\n",
       " (0.0, 'allyc_8'),\n",
       " (0.0, 'allyc_80'),\n",
       " (0.0, 'allyc_82'),\n",
       " (0.0, 'allyc_83'),\n",
       " (0.0, 'allyc_85'),\n",
       " (0.0, 'allyc_89'),\n",
       " (0.0, 'allyc_9'),\n",
       " (0.0, 'allyc_92'),\n",
       " (0.0, 'allyc_96'),\n",
       " (0.0, 'allyc_98'),\n",
       " (0.0, 'allyc_99'),\n",
       " (0.0, 'i_1006'),\n",
       " (0.0, 'i_1011'),\n",
       " (0.0, 'i_1018'),\n",
       " (0.0, 'i_1026'),\n",
       " (0.0, 'i_1027'),\n",
       " (0.0, 'i_1038'),\n",
       " (0.0, 'i_1039'),\n",
       " (0.0, 'i_1041'),\n",
       " (0.0, 'i_1042'),\n",
       " (0.0, 'i_1043'),\n",
       " (0.0, 'i_1053'),\n",
       " (0.0, 'i_1055'),\n",
       " (0.0, 'i_1056'),\n",
       " (0.0, 'i_1057'),\n",
       " (0.0, 'i_1058'),\n",
       " (0.0, 'i_1082'),\n",
       " (0.0, 'i_1300'),\n",
       " (0.0, 'i_1301'),\n",
       " (0.0, 'i_1303'),\n",
       " (0.0, 'i_1304'),\n",
       " (0.0, 'i_1305'),\n",
       " (0.0, 'i_1306'),\n",
       " (0.0, 'i_1307'),\n",
       " (0.0, 'i_1308'),\n",
       " (0.0, 'i_1310'),\n",
       " (0.0, 'i_1311'),\n",
       " (0.0, 'i_1313'),\n",
       " (0.0, 'i_1314'),\n",
       " (0.0, 'i_1315'),\n",
       " (0.0, 'i_1316'),\n",
       " (0.0, 'i_1317'),\n",
       " (0.0, 'i_1318'),\n",
       " (0.0, 'i_1319'),\n",
       " (0.0, 'i_1321'),\n",
       " (0.0, 'i_1322'),\n",
       " (0.0, 'i_1323'),\n",
       " (0.0, 'i_1324'),\n",
       " (0.0, 'i_1325'),\n",
       " (0.0, 'i_1326'),\n",
       " (0.0, 'i_1327'),\n",
       " (0.0, 'i_1328'),\n",
       " (0.0, 'i_1329'),\n",
       " (0.0, 'i_1330'),\n",
       " (0.0, 'i_1331'),\n",
       " (0.0, 'i_1333'),\n",
       " (0.0, 'i_1334'),\n",
       " (0.0, 'i_1400'),\n",
       " (0.0, 'i_1401'),\n",
       " (0.0, 'i_1402'),\n",
       " (0.0, 'i_1403'),\n",
       " (0.0, 'i_1408'),\n",
       " (0.0, 'i_1410'),\n",
       " (0.0, 'i_1412'),\n",
       " (0.0, 'i_1413'),\n",
       " (0.0, 'i_1414'),\n",
       " (0.0, 'i_1415'),\n",
       " (0.0, 'i_2003'),\n",
       " (0.0, 'i_2004'),\n",
       " (0.0, 'i_2010'),\n",
       " (0.0, 'i_2015'),\n",
       " (0.0, 'i_2031'),\n",
       " (0.0, 'i_2032'),\n",
       " (0.0, 'i_2033'),\n",
       " (0.0, 'i_2041'),\n",
       " (0.0, 'i_2043'),\n",
       " (0.0, 'i_2044'),\n",
       " (0.0, 'i_2045'),\n",
       " (0.0, 'i_2053'),\n",
       " (0.0, 'i_2138'),\n",
       " (0.0, 'i_2139'),\n",
       " (0.0, 'i_2301'),\n",
       " (0.0, 'i_2302'),\n",
       " (0.0, 'i_2303'),\n",
       " (0.0, 'i_3004'),\n",
       " (0.0, 'i_3006'),\n",
       " (0.0, 'i_3009'),\n",
       " (0.0, 'i_3010'),\n",
       " (0.0, 'i_3020'),\n",
       " (0.0, 'i_3022'),\n",
       " (0.0, 'i_3024'),\n",
       " (0.0, 'i_3025'),\n",
       " (0.0, 'i_3027'),\n",
       " (0.0, 'i_3028'),\n",
       " (0.0, 'i_3031'),\n",
       " (0.0, 'i_3033'),\n",
       " (0.0, 'i_3034'),\n",
       " (0.0, 'i_3036'),\n",
       " (0.0, 'i_3041'),\n",
       " (0.0, 'i_3046'),\n",
       " (0.0, 'i_3047'),\n",
       " (0.0, 'i_3050'),\n",
       " (0.0, 'i_3052'),\n",
       " (0.0, 'i_3053'),\n",
       " (0.0, 'i_3057'),\n",
       " (0.0, 'i_3065'),\n",
       " (0.0, 'i_3069'),\n",
       " (0.0, 'i_3070'),\n",
       " (0.0, 'i_3071'),\n",
       " (0.0, 'i_3072'),\n",
       " (0.0, 'i_3074'),\n",
       " (0.0, 'i_3075'),\n",
       " (0.0, 'i_3077'),\n",
       " (0.0, 'i_3078'),\n",
       " (0.0, 'i_3083'),\n",
       " (0.0, 'i_3085'),\n",
       " (0.0, 'i_3086'),\n",
       " (0.0, 'i_3087'),\n",
       " (0.0, 'i_3089'),\n",
       " (0.0, 'i_3092'),\n",
       " (0.0, 'i_3093'),\n",
       " (0.0, 'i_3094'),\n",
       " (0.0, 'i_3096'),\n",
       " (0.0, 'i_3098'),\n",
       " (0.0, 'i_3100'),\n",
       " (0.0, 'i_3105'),\n",
       " (0.0, 'i_3108'),\n",
       " (0.0, 'i_3110'),\n",
       " (0.0, 'i_3111'),\n",
       " (0.0, 'i_3113'),\n",
       " (0.0, 'i_3114'),\n",
       " (0.0, 'i_3115'),\n",
       " (0.0, 'i_3116'),\n",
       " (0.0, 'i_3117'),\n",
       " (0.0, 'i_3123'),\n",
       " (0.0, 'i_3124'),\n",
       " (0.0, 'i_3133'),\n",
       " (0.0, 'i_3134'),\n",
       " (0.0, 'i_3135'),\n",
       " (0.0, 'i_3136'),\n",
       " (0.0, 'i_3140'),\n",
       " (0.0, 'i_3141'),\n",
       " (0.0, 'i_3142'),\n",
       " (0.0, 'i_3144'),\n",
       " (0.0, 'i_3145'),\n",
       " (0.0, 'i_3146'),\n",
       " (0.0, 'i_3151'),\n",
       " (0.0, 'i_3152'),\n",
       " (0.0, 'i_3153'),\n",
       " (0.0, 'i_3155'),\n",
       " (0.0, 'i_3156'),\n",
       " (0.0, 'i_3157'),\n",
       " (0.0, 'i_3158'),\n",
       " (0.0, 'i_3165'),\n",
       " (0.0, 'i_3174'),\n",
       " (0.0, 'i_3191'),\n",
       " (0.0, 'i_3196'),\n",
       " (0.0, 'i_3197'),\n",
       " (0.0, 'i_3285'),\n",
       " (0.0, 'i_3302'),\n",
       " (0.0, 'i_3303'),\n",
       " (0.0, 'i_3341'),\n",
       " (0.0, 'i_3342'),\n",
       " (0.0, 'i_3363'),\n",
       " (0.0, 'i_3401'),\n",
       " (0.0, 'i_3508'),\n",
       " (0.0, 'i_3512'),\n",
       " (0.0, 'i_3599'),\n",
       " (0.0, 'i_3706'),\n",
       " (0.0, 'i_3707'),\n",
       " (0.0, 'i_3708'),\n",
       " (0.0, 'i_3709'),\n",
       " (0.0, 'i_3710'),\n",
       " (0.0, 'i_3711'),\n",
       " (0.0, 'i_3714'),\n",
       " (0.0, 'i_3715'),\n",
       " (0.0, 'i_3717'),\n",
       " (0.0, 'i_3718'),\n",
       " (0.0, 'i_3722'),\n",
       " (0.0, 'i_3723'),\n",
       " (0.0, 'i_3724'),\n",
       " (0.0, 'i_3725'),\n",
       " (0.0, 'i_3726'),\n",
       " (0.0, 'i_3748'),\n",
       " (0.0, 'i_3751'),\n",
       " (0.0, 'i_3800'),\n",
       " (0.0, 'i_3801'),\n",
       " (0.0, 'lr_BOTTOMNONE'),\n",
       " (0.0, 'lr_JUNGLENONE'),\n",
       " (0.0, 'lr_MIDDLEDUO_SUPPORT'),\n",
       " (0.0, 'lr_MIDDLENONE'),\n",
       " (0.0, 'lr_TOPDUO_CARRY'),\n",
       " (0.0, 'lr_TOPDUO_SUPPORT'),\n",
       " (0.0, 'lr_TOPSOLO'),\n",
       " (0.0, 'opponentc_10'),\n",
       " (0.0, 'opponentc_101'),\n",
       " (0.0, 'opponentc_103'),\n",
       " (0.0, 'opponentc_106'),\n",
       " (0.0, 'opponentc_107'),\n",
       " (0.0, 'opponentc_11'),\n",
       " (0.0, 'opponentc_110'),\n",
       " (0.0, 'opponentc_111'),\n",
       " (0.0, 'opponentc_113'),\n",
       " (0.0, 'opponentc_114'),\n",
       " (0.0, 'opponentc_115'),\n",
       " (0.0, 'opponentc_117'),\n",
       " (0.0, 'opponentc_120'),\n",
       " (0.0, 'opponentc_121'),\n",
       " (0.0, 'opponentc_127'),\n",
       " (0.0, 'opponentc_131'),\n",
       " (0.0, 'opponentc_133'),\n",
       " (0.0, 'opponentc_134'),\n",
       " (0.0, 'opponentc_14'),\n",
       " (0.0, 'opponentc_143'),\n",
       " (0.0, 'opponentc_150'),\n",
       " (0.0, 'opponentc_154'),\n",
       " (0.0, 'opponentc_16'),\n",
       " (0.0, 'opponentc_17'),\n",
       " (0.0, 'opponentc_19'),\n",
       " (0.0, 'opponentc_2'),\n",
       " (0.0, 'opponentc_20'),\n",
       " (0.0, 'opponentc_201'),\n",
       " (0.0, 'opponentc_203'),\n",
       " (0.0, 'opponentc_22'),\n",
       " (0.0, 'opponentc_236'),\n",
       " (0.0, 'opponentc_245'),\n",
       " (0.0, 'opponentc_25'),\n",
       " (0.0, 'opponentc_254'),\n",
       " (0.0, 'opponentc_26'),\n",
       " (0.0, 'opponentc_266'),\n",
       " (0.0, 'opponentc_267'),\n",
       " (0.0, 'opponentc_27'),\n",
       " (0.0, 'opponentc_28'),\n",
       " (0.0, 'opponentc_29'),\n",
       " (0.0, 'opponentc_3'),\n",
       " (0.0, 'opponentc_30'),\n",
       " (0.0, 'opponentc_31'),\n",
       " (0.0, 'opponentc_32'),\n",
       " (0.0, 'opponentc_33'),\n",
       " (0.0, 'opponentc_34'),\n",
       " (0.0, 'opponentc_35'),\n",
       " (0.0, 'opponentc_39'),\n",
       " (0.0, 'opponentc_40'),\n",
       " (0.0, 'opponentc_412'),\n",
       " (0.0, 'opponentc_421'),\n",
       " (0.0, 'opponentc_43'),\n",
       " (0.0, 'opponentc_432'),\n",
       " (0.0, 'opponentc_51'),\n",
       " (0.0, 'opponentc_53'),\n",
       " (0.0, 'opponentc_57'),\n",
       " (0.0, 'opponentc_58'),\n",
       " (0.0, 'opponentc_59'),\n",
       " (0.0, 'opponentc_6'),\n",
       " (0.0, 'opponentc_61'),\n",
       " (0.0, 'opponentc_67'),\n",
       " (0.0, 'opponentc_69'),\n",
       " (0.0, 'opponentc_74'),\n",
       " (0.0, 'opponentc_75'),\n",
       " (0.0, 'opponentc_78'),\n",
       " (0.0, 'opponentc_79'),\n",
       " (0.0, 'opponentc_8'),\n",
       " (0.0, 'opponentc_81'),\n",
       " (0.0, 'opponentc_83'),\n",
       " (0.0, 'opponentc_84'),\n",
       " (0.0, 'opponentc_86'),\n",
       " (0.0, 'opponentc_91'),\n",
       " (0.0, 'opponentc_96'),\n",
       " (0.0, 'opponentc_98'),\n",
       " (0.0, 'opponentc_99'),\n",
       " (0.0050000000000000001, 'allyc_1'),\n",
       " (0.0050000000000000001, 'allyc_106'),\n",
       " (0.0050000000000000001, 'allyc_107'),\n",
       " (0.0050000000000000001, 'allyc_11'),\n",
       " (0.0050000000000000001, 'allyc_110'),\n",
       " (0.0050000000000000001, 'allyc_117'),\n",
       " (0.0050000000000000001, 'allyc_121'),\n",
       " (0.0050000000000000001, 'allyc_126'),\n",
       " (0.0050000000000000001, 'allyc_127'),\n",
       " (0.0050000000000000001, 'allyc_13'),\n",
       " (0.0050000000000000001, 'allyc_131'),\n",
       " (0.0050000000000000001, 'allyc_133'),\n",
       " (0.0050000000000000001, 'allyc_134'),\n",
       " (0.0050000000000000001, 'allyc_14'),\n",
       " (0.0050000000000000001, 'allyc_15'),\n",
       " (0.0050000000000000001, 'allyc_150'),\n",
       " (0.0050000000000000001, 'allyc_161'),\n",
       " (0.0050000000000000001, 'allyc_19'),\n",
       " (0.0050000000000000001, 'allyc_203'),\n",
       " (0.0050000000000000001, 'allyc_22'),\n",
       " (0.0050000000000000001, 'allyc_223'),\n",
       " (0.0050000000000000001, 'allyc_23'),\n",
       " (0.0050000000000000001, 'allyc_236'),\n",
       " (0.0050000000000000001, 'allyc_238'),\n",
       " (0.0050000000000000001, 'allyc_24'),\n",
       " (0.0050000000000000001, 'allyc_268'),\n",
       " (0.0050000000000000001, 'allyc_27'),\n",
       " (0.0050000000000000001, 'allyc_3'),\n",
       " (0.0050000000000000001, 'allyc_30'),\n",
       " (0.0050000000000000001, 'allyc_32'),\n",
       " (0.0050000000000000001, 'allyc_33'),\n",
       " (0.0050000000000000001, 'allyc_34'),\n",
       " (0.0050000000000000001, 'allyc_36'),\n",
       " (0.0050000000000000001, 'allyc_40'),\n",
       " (0.0050000000000000001, 'allyc_412'),\n",
       " (0.0050000000000000001, 'allyc_420'),\n",
       " (0.0050000000000000001, 'allyc_429'),\n",
       " (0.0050000000000000001, 'allyc_43'),\n",
       " (0.0050000000000000001, 'allyc_432'),\n",
       " (0.0050000000000000001, 'allyc_48'),\n",
       " (0.0050000000000000001, 'allyc_51'),\n",
       " (0.0050000000000000001, 'allyc_53'),\n",
       " (0.0050000000000000001, 'allyc_54'),\n",
       " (0.0050000000000000001, 'allyc_61'),\n",
       " (0.0050000000000000001, 'allyc_62'),\n",
       " (0.0050000000000000001, 'allyc_63'),\n",
       " (0.0050000000000000001, 'allyc_7'),\n",
       " (0.0050000000000000001, 'allyc_76'),\n",
       " (0.0050000000000000001, 'allyc_77'),\n",
       " (0.0050000000000000001, 'allyc_78'),\n",
       " (0.0050000000000000001, 'allyc_79'),\n",
       " (0.0050000000000000001, 'allyc_81'),\n",
       " (0.0050000000000000001, 'allyc_84'),\n",
       " (0.0050000000000000001, 'allyc_86'),\n",
       " (0.0050000000000000001, 'allyc_90'),\n",
       " (0.0050000000000000001, 'allyc_91'),\n",
       " (0.0050000000000000001, 'i_1001'),\n",
       " (0.0050000000000000001, 'i_1004'),\n",
       " (0.0050000000000000001, 'i_1028'),\n",
       " (0.0050000000000000001, 'i_1029'),\n",
       " (0.0050000000000000001, 'i_1031'),\n",
       " (0.0050000000000000001, 'i_1033'),\n",
       " (0.0050000000000000001, 'i_1036'),\n",
       " (0.0050000000000000001, 'i_1037'),\n",
       " (0.0050000000000000001, 'i_1051'),\n",
       " (0.0050000000000000001, 'i_1052'),\n",
       " (0.0050000000000000001, 'i_1054'),\n",
       " (0.0050000000000000001, 'i_1083'),\n",
       " (0.0050000000000000001, 'i_1309'),\n",
       " (0.0050000000000000001, 'i_1409'),\n",
       " (0.0050000000000000001, 'i_1411'),\n",
       " (0.0050000000000000001, 'i_2049'),\n",
       " (0.0050000000000000001, 'i_3001'),\n",
       " (0.0050000000000000001, 'i_3035'),\n",
       " (0.0050000000000000001, 'i_3044'),\n",
       " (0.0050000000000000001, 'i_3067'),\n",
       " (0.0050000000000000001, 'i_3068'),\n",
       " (0.0050000000000000001, 'i_3082'),\n",
       " (0.0050000000000000001, 'i_3097'),\n",
       " (0.0050000000000000001, 'i_3101'),\n",
       " (0.0050000000000000001, 'i_3211'),\n",
       " (0.0050000000000000001, 'i_3301'),\n",
       " (0.0050000000000000001, 'i_3340'),\n",
       " (0.0050000000000000001, 'i_3713'),\n",
       " (0.0050000000000000001, 'i_3742'),\n",
       " (0.0050000000000000001, 'lr_BOTTOMDUO'),\n",
       " (0.0050000000000000001, 'lr_BOTTOMDUO_CARRY'),\n",
       " (0.0050000000000000001, 'lr_BOTTOMDUO_SUPPORT'),\n",
       " (0.0050000000000000001, 'lr_BOTTOMSOLO'),\n",
       " (0.0050000000000000001, 'lr_MIDDLEDUO'),\n",
       " (0.0050000000000000001, 'lr_MIDDLEDUO_CARRY'),\n",
       " (0.0050000000000000001, 'lr_MIDDLESOLO'),\n",
       " (0.0050000000000000001, 'lr_TOPDUO'),\n",
       " (0.0050000000000000001, 'opponentc_1'),\n",
       " (0.0050000000000000001, 'opponentc_102'),\n",
       " (0.0050000000000000001, 'opponentc_104'),\n",
       " (0.0050000000000000001, 'opponentc_105'),\n",
       " (0.0050000000000000001, 'opponentc_112'),\n",
       " (0.0050000000000000001, 'opponentc_119'),\n",
       " (0.0050000000000000001, 'opponentc_12'),\n",
       " (0.0050000000000000001, 'opponentc_122'),\n",
       " (0.0050000000000000001, 'opponentc_126'),\n",
       " (0.0050000000000000001, 'opponentc_13'),\n",
       " (0.0050000000000000001, 'opponentc_15'),\n",
       " (0.0050000000000000001, 'opponentc_157'),\n",
       " (0.0050000000000000001, 'opponentc_161'),\n",
       " (0.0050000000000000001, 'opponentc_18'),\n",
       " (0.0050000000000000001, 'opponentc_21'),\n",
       " (0.0050000000000000001, 'opponentc_222'),\n",
       " (0.0050000000000000001, 'opponentc_223'),\n",
       " (0.0050000000000000001, 'opponentc_23'),\n",
       " (0.0050000000000000001, 'opponentc_238'),\n",
       " (0.0050000000000000001, 'opponentc_24'),\n",
       " (0.0050000000000000001, 'opponentc_268'),\n",
       " (0.0050000000000000001, 'opponentc_36'),\n",
       " (0.0050000000000000001, 'opponentc_37'),\n",
       " (0.0050000000000000001, 'opponentc_38'),\n",
       " (0.0050000000000000001, 'opponentc_4'),\n",
       " (0.0050000000000000001, 'opponentc_41'),\n",
       " (0.0050000000000000001, 'opponentc_42'),\n",
       " (0.0050000000000000001, 'opponentc_420'),\n",
       " (0.0050000000000000001, 'opponentc_429'),\n",
       " (0.0050000000000000001, 'opponentc_44'),\n",
       " (0.0050000000000000001, 'opponentc_45'),\n",
       " (0.0050000000000000001, 'opponentc_48'),\n",
       " (0.0050000000000000001, 'opponentc_5'),\n",
       " (0.0050000000000000001, 'opponentc_50'),\n",
       " (0.0050000000000000001, 'opponentc_54'),\n",
       " (0.0050000000000000001, 'opponentc_55'),\n",
       " (0.0050000000000000001, 'opponentc_56'),\n",
       " (0.0050000000000000001, 'opponentc_60'),\n",
       " (0.0050000000000000001, 'opponentc_62'),\n",
       " (0.0050000000000000001, 'opponentc_63'),\n",
       " (0.0050000000000000001, 'opponentc_64'),\n",
       " (0.0050000000000000001, 'opponentc_68'),\n",
       " (0.0050000000000000001, 'opponentc_7'),\n",
       " (0.0050000000000000001, 'opponentc_72'),\n",
       " (0.0050000000000000001, 'opponentc_76'),\n",
       " (0.0050000000000000001, 'opponentc_77'),\n",
       " (0.0050000000000000001, 'opponentc_80'),\n",
       " (0.0050000000000000001, 'opponentc_82'),\n",
       " (0.0050000000000000001, 'opponentc_85'),\n",
       " (0.0050000000000000001, 'opponentc_89'),\n",
       " (0.0050000000000000001, 'opponentc_9'),\n",
       " (0.0050000000000000001, 'opponentc_90'),\n",
       " (0.0050000000000000001, 'opponentc_92'),\n",
       " (0.040000000000000001, 'gold5z'),\n",
       " (0.065000000000000002, 'xp10z'),\n",
       " (0.065000000000000002, 'xp5z'),\n",
       " (0.10000000000000001, 'gold10z')]"
      ]
     },
     "execution_count": 54,
     "metadata": {},
     "output_type": "execute_result"
    }
   ],
   "source": [
    "sorted(zip(c.feature_importances_,base_cols + state_cols + item_cols))"
   ]
  },
  {
   "cell_type": "markdown",
   "metadata": {},
   "source": [
    "Scratch\n",
    "---------------------"
   ]
  },
  {
   "cell_type": "code",
   "execution_count": null,
   "metadata": {
    "collapsed": false
   },
   "outputs": [],
   "source": [
    "svmodel = sk.svm.SVC(kernel='poly')\n",
    "svmodel.fit(\n",
    "    df_gold[champ_cols+['gold5','gold10']+item_cols],\n",
    "    df_gold['winner'], \n",
    ")"
   ]
  },
  {
   "cell_type": "code",
   "execution_count": null,
   "metadata": {
    "collapsed": true
   },
   "outputs": [],
   "source": [
    "champ_gold_item_scores = skcv.cross_val_score(\n",
    "    sk.svm.SVC(kernel='poly'), \n",
    "    df_gold[champ_cols+['gold5','gold10']+item_cols], \n",
    "    df_gold['winner'], \n",
    "    scoring='accuracy', \n",
    "    cv=10)"
   ]
  },
  {
   "cell_type": "code",
   "execution_count": null,
   "metadata": {
    "collapsed": true
   },
   "outputs": [],
   "source": [
    "champ_gold_item_scores.mean()"
   ]
  },
  {
   "cell_type": "code",
   "execution_count": null,
   "metadata": {
    "collapsed": false
   },
   "outputs": [],
   "source": [
    "len(df_gold[df_gold['championId']==4])"
   ]
  },
  {
   "cell_type": "code",
   "execution_count": null,
   "metadata": {
    "collapsed": false,
    "scrolled": true
   },
   "outputs": [],
   "source": [
    "champ_no = 7\n",
    "champ_specific_data = df_s[df_s['championId']==champ_no]\n",
    "len(df_s[df_s['championId']==champ_no])"
   ]
  },
  {
   "cell_type": "code",
   "execution_count": null,
   "metadata": {
    "collapsed": false
   },
   "outputs": [],
   "source": [
    "scores = skcv.cross_val_score(\n",
    "    sklm.LogisticRegression(), \n",
    "    champ_specific_data[champ_cols+state_cols], \n",
    "    champ_specific_data['winner'], \n",
    "    scoring='accuracy', \n",
    "    cv=10)\n",
    "scores.mean()"
   ]
  },
  {
   "cell_type": "code",
   "execution_count": null,
   "metadata": {
    "collapsed": false
   },
   "outputs": [],
   "source": [
    "scores = skcv.cross_val_score(\n",
    "    sklm.LogisticRegression(), \n",
    "    champ_specific_data[champ_cols+state_cols+item_cols], \n",
    "    champ_specific_data['winner'], \n",
    "    scoring='accuracy', \n",
    "    cv=10)\n",
    "scores.mean()"
   ]
  },
  {
   "cell_type": "code",
   "execution_count": null,
   "metadata": {
    "collapsed": true
   },
   "outputs": [],
   "source": []
  }
 ],
 "metadata": {
  "kernelspec": {
   "display_name": "Python 2",
   "language": "python",
   "name": "python2"
  },
  "language_info": {
   "codemirror_mode": {
    "name": "ipython",
    "version": 2
   },
   "file_extension": ".py",
   "mimetype": "text/x-python",
   "name": "python",
   "nbconvert_exporter": "python",
   "pygments_lexer": "ipython2",
   "version": "2.7.10"
  }
 },
 "nbformat": 4,
 "nbformat_minor": 0
}
